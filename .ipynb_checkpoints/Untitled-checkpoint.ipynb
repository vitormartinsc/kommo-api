{
 "cells": [
  {
   "cell_type": "code",
   "execution_count": 70,
   "id": "10bb7a18-1170-4fb6-837d-fe2d88cf8166",
   "metadata": {},
   "outputs": [],
   "source": [
    "from selenium import webdriver\n",
    "from selenium.webdriver.common.by import By\n",
    "from selenium.webdriver.common.action_chains import ActionChains\n",
    "from selenium.webdriver.support.ui import WebDriverWait\n",
    "from selenium.webdriver.support import expected_conditions as EC\n",
    "from selenium.common.exceptions import StaleElementReferenceException, NoSuchElementException\n",
    "import time\n",
    "\n",
    "# Configurar o driver do Selenium (exemplo com Chrome)\n",
    "driver = webdriver.Chrome()  "
   ]
  },
  {
   "cell_type": "code",
   "execution_count": 85,
   "id": "392f224e-396b-4bde-82d4-55bbacf82db3",
   "metadata": {},
   "outputs": [],
   "source": [
    "wait = WebDriverWait(driver, 30)\n",
    "wrapper = wait.until(EC.presence_of_element_located((By.CLASS_NAME, \"inbox-messaging__wrapper\")))\n",
    "\n",
    "# Localizar todos os elementos que correspondem ao padrão desejado\n",
    "notification_items = wrapper.find_elements(By.CLASS_NAME, \"notification__item\")"
   ]
  },
  {
   "cell_type": "code",
   "execution_count": 93,
   "id": "ab07464b-8dd4-44c6-8d6d-e99279d59e1c",
   "metadata": {},
   "outputs": [
    {
     "name": "stdout",
     "output_type": "stream",
     "text": [
      "Talk ID: A1497\n",
      "Talk ID: A1496\n",
      "Talk ID: A1490\n",
      "Talk ID: A1495\n",
      "Talk ID: A1458\n",
      "Talk ID: A1423\n",
      "Talk ID: A1494\n",
      "Talk ID: A1479\n",
      "Talk ID: A1216\n",
      "Talk ID: A1349\n",
      "Talk ID: A1487\n",
      "Talk ID: A1488\n"
     ]
    }
   ],
   "source": [
    "# Rolar a página para capturar todos os elementos\n",
    "while True:\n",
    "    try:\n",
    "        # Localizar os elementos visíveis na página\n",
    "        notification_items = wrapper.find_elements(By.CLASS_NAME, \"notification__item\")\n",
    "\n",
    "        for item in notification_items:\n",
    "            try:\n",
    "                # Extrair o texto do elemento\n",
    "                talk_id_element = item.find_element(By.CLASS_NAME, \"notification-inner__title_message_talk-id\")\n",
    "                talk_id = talk_id_element.text\n",
    "                print(f\"Talk ID: {talk_id}\")\n",
    "            except Exception as e:\n",
    "                1+1\n",
    "                #print(f\"Erro ao processar o item: {e}\")\n",
    "\n",
    "        # Rolar para baixo\n",
    "        driver.execute_script(\"arguments[0].scrollTop = arguments[0].scrollHeight\", wrapper)\n",
    "\n",
    "        # Esperar um pouco para carregar novos elementos\n",
    "        time.sleep(1)\n",
    "\n",
    "        # Verificar se não há mais elementos novos\n",
    "        new_notification_items = wrapper.find_elements(By.CLASS_NAME, \"notification__item\")\n",
    "        if len(new_notification_items) == len(notification_items):\n",
    "            break  # Sai do loop se não houver novos elementos\n",
    "    except Exception as e:\n",
    "        print(f\"Erro ao rolar a página: {e}\")\n",
    "        break"
   ]
  },
  {
   "cell_type": "code",
   "execution_count": 99,
   "id": "567692e6-3e19-4519-965f-a87985426639",
   "metadata": {},
   "outputs": [],
   "source": [
    "driver.execute_script(\"arguments[0].scrollTop = arguments[0].scrollHeight\", wrapper)\n"
   ]
  },
  {
   "cell_type": "code",
   "execution_count": 45,
   "id": "34b8b976-3db3-417e-a1f3-a0352bd5be3c",
   "metadata": {},
   "outputs": [],
   "source": [
    "\n",
    "    talk_id = item.find_element(By.CLASS_NAME, \"notification-inner__title_message_talk-id\").text"
   ]
  },
  {
   "cell_type": "code",
   "execution_count": 47,
   "id": "4197e6fe-8c40-47e7-98cb-bcec5990a764",
   "metadata": {},
   "outputs": [
    {
     "data": {
      "text/plain": [
       "'A1496'"
      ]
     },
     "execution_count": 47,
     "metadata": {},
     "output_type": "execute_result"
    }
   ],
   "source": [
    "talk_id"
   ]
  },
  {
   "cell_type": "code",
   "execution_count": null,
   "id": "81aae851-00e7-425a-8950-52a192de5925",
   "metadata": {},
   "outputs": [],
   "source": []
  }
 ],
 "metadata": {
  "kernelspec": {
   "display_name": "Python [conda env:base] *",
   "language": "python",
   "name": "conda-base-py"
  },
  "language_info": {
   "codemirror_mode": {
    "name": "ipython",
    "version": 3
   },
   "file_extension": ".py",
   "mimetype": "text/x-python",
   "name": "python",
   "nbconvert_exporter": "python",
   "pygments_lexer": "ipython3",
   "version": "3.12.7"
  }
 },
 "nbformat": 4,
 "nbformat_minor": 5
}
