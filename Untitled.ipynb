{
 "cells": [
  {
   "cell_type": "code",
   "execution_count": 21,
   "id": "60e624d8-f052-45fd-8b9e-4db5406d4e4b",
   "metadata": {},
   "outputs": [],
   "source": [
    "import requests\n",
    "import time\n",
    "import os\n",
    "import requests\n",
    "from datetime import datetime\n",
    "from collections import Counter\n",
    "import pandas as pd\n",
    "from dotenv import load_dotenv\n",
    "\n",
    "\n",
    "# === CONFIGURAÇÃO ===\n",
    "load_dotenv()  # Carrega variáveis de um arquivo .env se estiver na mesma pasta\n",
    "ACCESS_TOKEN = os.getenv('KOMMO_ACCESS_TOKEN')  # Token como variável de ambiente\n",
    "BASE_URL = 'https://vitorcarvalho.kommo.com'\n",
    "HEADERS = {\n",
    "    'Authorization': f'Bearer {ACCESS_TOKEN}',\n",
    "    'Content-Type': 'application/json'\n",
    "}\n"
   ]
  },
  {
   "cell_type": "code",
   "execution_count": 3,
   "id": "1afcaf95-86c8-40f7-b9cd-47edbe731a4a",
   "metadata": {},
   "outputs": [],
   "source": [
    "DATA_INICIAL = '2025-04-01'\n",
    "DATA_FINAL = '2025-04-10'\n",
    "\n",
    "# Converter para timestamp Unix\n",
    "def to_timestamp(date_str):\n",
    "    return int(datetime.strptime(date_str, \"%Y-%m-%d\").timestamp())\n",
    "\n",
    "ts_inicial = to_timestamp(DATA_INICIAL)\n",
    "ts_final = to_timestamp(DATA_FINAL)"
   ]
  },
  {
   "cell_type": "code",
   "execution_count": 25,
   "id": "0ad16c64-b6fc-4e8b-bd4b-8b6dae18b785",
   "metadata": {},
   "outputs": [
    {
     "ename": "KeyError",
     "evalue": "'statuses'",
     "output_type": "error",
     "traceback": [
      "\u001b[1;31m---------------------------------------------------------------------------\u001b[0m",
      "\u001b[1;31mKeyError\u001b[0m                                  Traceback (most recent call last)",
      "Cell \u001b[1;32mIn[25], line 8\u001b[0m\n\u001b[0;32m      6\u001b[0m mapa_status \u001b[38;5;241m=\u001b[39m {}\n\u001b[0;32m      7\u001b[0m \u001b[38;5;28;01mfor\u001b[39;00m pipeline \u001b[38;5;129;01min\u001b[39;00m pipelines:\n\u001b[1;32m----> 8\u001b[0m     \u001b[38;5;28;01mfor\u001b[39;00m status \u001b[38;5;129;01min\u001b[39;00m pipeline[\u001b[38;5;124m'\u001b[39m\u001b[38;5;124mstatuses\u001b[39m\u001b[38;5;124m'\u001b[39m]:\n\u001b[0;32m      9\u001b[0m         mapa_status[status[\u001b[38;5;124m'\u001b[39m\u001b[38;5;124mid\u001b[39m\u001b[38;5;124m'\u001b[39m]] \u001b[38;5;241m=\u001b[39m status[\u001b[38;5;124m'\u001b[39m\u001b[38;5;124mname\u001b[39m\u001b[38;5;124m'\u001b[39m]\n",
      "\u001b[1;31mKeyError\u001b[0m: 'statuses'"
     ]
    }
   ],
   "source": [
    "url = f'{BASE_URL}/api/v4/leads/pipelines'\n",
    "resp = requests.get(url, headers=HEADERS)\n",
    "pipelines = resp.json()['_embedded']['pipelines']\n",
    "\n",
    "# Criar dicionário para mapear status_id para nome\n",
    "mapa_status = {}\n",
    "for pipeline in pipelines:\n",
    "    for status in pipeline['statuses']:\n",
    "        mapa_status[status['id']] = status['name']"
   ]
  },
  {
   "cell_type": "code",
   "execution_count": 7,
   "id": "e312054b-ffb8-4c60-9869-5e8ba490768f",
   "metadata": {},
   "outputs": [
    {
     "data": {
      "text/plain": [
       "<Response [401]>"
      ]
     },
     "execution_count": 7,
     "metadata": {},
     "output_type": "execute_result"
    }
   ],
   "source": [
    "https://{subdomain}.kommo.com/api/v4/leads/pipelines/{pipeline_id}/statuses"
   ]
  },
  {
   "cell_type": "code",
   "execution_count": 11,
   "id": "d5d1433f-20ef-4817-b34e-b7e664e832c0",
   "metadata": {},
   "outputs": [],
   "source": [
    "url = f'{BASE_URL}/api/v4/leads/pipelines'\n",
    "resp = requests.get(url, headers=HEADERS)"
   ]
  },
  {
   "cell_type": "code",
   "execution_count": 35,
   "id": "ca5f64a1-6dba-4200-ae21-2fadbec02cbb",
   "metadata": {},
   "outputs": [
    {
     "data": {
      "text/plain": [
       "\"{'id': 10835227, 'name': 'Saque', 'sort': 1, 'is_main': True, 'is_unsorted_on': True, 'is_archive': False, 'account_id': 34305171, '_links': {'self': {'href': 'https://vitorcarvalho.kommo.com/api/v4/leads/pipelines/10835227'}}, '_embedded': {'statuses': [{'id': 83088599, 'name': 'Etapa de leads de entrada', 'sort': 10, 'is_editable': False, 'pipeline_id': 10835227, 'color': '#c1c1c1', 'type': 1, 'account_id': 34305171, '_links': {'self': {'href': 'https://vitorcarvalho.kommo.com/api/v4/leads/pipelines/10835227/statuses/83088599'}}}, {'id': 83316263, 'name': 'REATIVAÇÃo', 'sort': 20, 'is_editable': True, 'pipeline_id': 10835227, 'color': '#99ccff', 'type': 0, 'account_id': 34305171, '_links': {'self': {'href': 'https://vitorcarvalho.kommo.com/api/v4/leads/pipelines/10835227/statuses/83316263'}}}, {'id': 83088607, 'name': 'Possui Limite', 'sort': 30, 'is_editable': True, 'pipeline_id': 10835227, 'color': '#ffff99', 'type': 0, 'account_id': 34305171, '_links': {'self': {'href': 'https://vitorcarvalho.kommo.com/api/v4/leads/pipelines/10835227/statuses/83088607'}}}, {'id': 83088611, 'name': 'Não Possui Limite', 'sort': 40, 'is_editable': True, 'pipeline_id': 10835227, 'color': '#ffcc66', 'type': 0, 'account_id': 34305171, '_links': {'self': {'href': 'https://vitorcarvalho.kommo.com/api/v4/leads/pipelines/10835227/statuses/83088611'}}}, {'id': 83148291, 'name': 'Em Atendimento', 'sort': 50, 'is_editable': True, 'pipeline_id': 10835227, 'color': '#f9deff', 'type': 0, 'account_id': 34305171, '_links': {'self': {'href': 'https://vitorcarvalho.kommo.com/api/v4/leads/pipelines/10835227/statuses/83148291'}}}, {'id': 83236763, 'name': 'Simulação', 'sort': 60, 'is_editable': True, 'pipeline_id': 10835227, 'color': '#f9deff', 'type': 0, 'account_id': 34305171, '_links': {'self': {'href': 'https://vitorcarvalho.kommo.com/api/v4/leads/pipelines/10835227/statuses/83236763'}}}, {'id': 83311583, 'name': 'PóS - SimulAÇÃO', 'sort': 70, 'is_editable': True, 'pipeline_id': 10835227, 'color': '#99ccff', 'type': 0, 'account_id': 34305171, '_links': {'self': {'href': 'https://vitorcarvalho.kommo.com/api/v4/leads/pipelines/10835227/statuses/83311583'}}}, {'id': 83584911, 'name': 'LINK CADASTRO', 'sort': 80, 'is_editable': True, 'pipeline_id': 10835227, 'color': '#ff8f92', 'type': 0, 'account_id': 34305171, '_links': {'self': {'href': 'https://vitorcarvalho.kommo.com/api/v4/leads/pipelines/10835227/statuses/83584911'}}}, {'id': 83584915, 'name': 'LINK PAGAMENTO', 'sort': 90, 'is_editable': True, 'pipeline_id': 10835227, 'color': '#ffeab2', 'type': 0, 'account_id': 34305171, '_links': {'self': {'href': 'https://vitorcarvalho.kommo.com/api/v4/leads/pipelines/10835227/statuses/83584915'}}}, {'id': 83584919, 'name': 'TRaNSFERÊNCIA efetuada', 'sort': 100, 'is_editable': True, 'pipeline_id': 10835227, 'color': '#ffc8c8', 'type': 0, 'account_id': 34305171, '_links': {'self': {'href': 'https://vitorcarvalho.kommo.com/api/v4/leads/pipelines/10835227/statuses/83584919'}}}, {'id': 142, 'name': 'Venda ganha', 'sort': 10000, 'is_editable': False, 'pipeline_id': 10835227, 'color': '#CCFF66', 'type': 0, 'account_id': 34305171, '_links': {'self': {'href': 'https://vitorcarvalho.kommo.com/api/v4/leads/pipelines/10835227/statuses/142'}}}, {'id': 143, 'name': 'Venda perdida', 'sort': 11000, 'is_editable': False, 'pipeline_id': 10835227, 'color': '#D5D8DB', 'type': 0, 'account_id': 34305171, '_links': {'self': {'href': 'https://vitorcarvalho.kommo.com/api/v4/leads/pipelines/10835227/statuses/143'}}}]}}\""
      ]
     },
     "execution_count": 35,
     "metadata": {},
     "output_type": "execute_result"
    }
   ],
   "source": [
    "str(pipelines[0])"
   ]
  },
  {
   "cell_type": "code",
   "execution_count": 37,
   "id": "30014835-7368-440d-b1b7-d7ea1e1a28e8",
   "metadata": {},
   "outputs": [],
   "source": [
    "def get_status_por_pipeline(pipeline_id):\n",
    "    url = f\"{BASE_URL}/api/v4/leads/pipelines\"\n",
    "    resp = requests.get(url, headers=HEADERS)\n",
    "    resp.raise_for_status()\n",
    "    \n",
    "    pipelines = resp.json()['_embedded']['pipelines']\n",
    "\n",
    "    for pipeline in pipelines:\n",
    "        if pipeline['id'] == pipeline_id:\n",
    "            status_dict = {\n",
    "                status['id']: status['name']\n",
    "                for status in pipeline['_embedded']['statuses']\n",
    "            }\n",
    "            return status_dict\n",
    "\n",
    "    return {}\n"
   ]
  },
  {
   "cell_type": "code",
   "execution_count": 40,
   "id": "e2d978eb-ff57-4f23-8833-cf0257f18412",
   "metadata": {},
   "outputs": [
    {
     "name": "stdout",
     "output_type": "stream",
     "text": [
      "83088599: Etapa de leads de entrada\n",
      "83316263: REATIVAÇÃo\n",
      "83088607: Possui Limite\n",
      "83088611: Não Possui Limite\n",
      "83148291: Em Atendimento\n",
      "83236763: Simulação\n",
      "83311583: PóS - SimulAÇÃO\n",
      "83584911: LINK CADASTRO\n",
      "83584915: LINK PAGAMENTO\n",
      "83584919: TRaNSFERÊNCIA efetuada\n",
      "142: Venda ganha\n",
      "143: Venda perdida\n"
     ]
    }
   ],
   "source": [
    "pipeline_id = 10835227\n",
    "mapa_status = get_status_por_pipeline(pipeline_id)\n",
    "\n",
    "# Exemplo de impressão\n",
    "for status_id, nome in mapa_status.items():\n",
    "    print(f\"{status_id}: {nome}\")"
   ]
  },
  {
   "cell_type": "code",
   "execution_count": null,
   "id": "c5a271d9-81f8-4d29-8857-8926ea345556",
   "metadata": {},
   "outputs": [],
   "source": []
  }
 ],
 "metadata": {
  "kernelspec": {
   "display_name": "Python [conda env:base] *",
   "language": "python",
   "name": "conda-base-py"
  },
  "language_info": {
   "codemirror_mode": {
    "name": "ipython",
    "version": 3
   },
   "file_extension": ".py",
   "mimetype": "text/x-python",
   "name": "python",
   "nbconvert_exporter": "python",
   "pygments_lexer": "ipython3",
   "version": "3.12.7"
  }
 },
 "nbformat": 4,
 "nbformat_minor": 5
}
