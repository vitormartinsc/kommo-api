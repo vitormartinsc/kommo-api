{
 "cells": [
  {
   "cell_type": "code",
   "execution_count": null,
   "id": "10bb7a18-1170-4fb6-837d-fe2d88cf8166",
   "metadata": {},
   "outputs": [],
   "source": [
    "from selenium import webdriver\n",
    "from selenium.webdriver.common.by import By\n",
    "from selenium.webdriver.common.action_chains import ActionChains\n",
    "from selenium.webdriver.support.ui import WebDriverWait\n",
    "from selenium.webdriver.support import expected_conditions as EC\n",
    "from selenium.common.exceptions import StaleElementReferenceException, NoSuchElementException\n",
    "import time\n",
    "\n",
    "# Configurar o driver do Selenium (exemplo com Chrome)\n",
    "driver = webdriver.Chrome()"
   ]
  },
  {
   "cell_type": "code",
   "execution_count": 152,
   "id": "392f224e-396b-4bde-82d4-55bbacf82db3",
   "metadata": {},
   "outputs": [
    {
     "name": "stdout",
     "output_type": "stream",
     "text": [
      "🟢 Usando container da busca.\n"
     ]
    }
   ],
   "source": [
    "try:\n",
    "    # Prioriza o container da busca, se ele estiver visível\n",
    "    scroll_container = driver.find_element(By.CSS_SELECTOR, \".a32e5979c.custom-scroll\")\n",
    "    print(\"🟢 Usando container da busca.\")\n",
    "except:\n",
    "    # Usa o container padrão\n",
    "    scroll_container = driver.find_element(By.ID, \"inbox_messaging_list\")\n",
    "    print(\"🔵 Usando container padrão.\")"
   ]
  },
  {
   "cell_type": "code",
   "execution_count": 146,
   "id": "ab07464b-8dd4-44c6-8d6d-e99279d59e1c",
   "metadata": {},
   "outputs": [
    {
     "name": "stdout",
     "output_type": "stream",
     "text": [
      "✅ Novo Talk ID: A1498\n",
      "✅ Novo Talk ID: A1497\n",
      "✅ Novo Talk ID: A1458\n",
      "✅ Novo Talk ID: A1494\n",
      "✅ Novo Talk ID: A1488\n",
      "✅ Novo Talk ID: A1487\n",
      "✅ Novo Talk ID: A1479\n",
      "\n",
      "🏁 Fim do scroll. Total coletado: 7\n"
     ]
    }
   ],
   "source": [
    "talk_ids = set()\n",
    "last_count = 0\n",
    "tentativas_sem_novos = 0\n",
    "\n",
    "while True:\n",
    "    # Coleta os itens visíveis atualmente\n",
    "    notification_items = scroll_container.find_elements(By.CLASS_NAME, \"notification__item\")\n",
    "\n",
    "    for item in notification_items:\n",
    "        try:\n",
    "            talk_id_element = item.find_element(By.CLASS_NAME, \"notification-inner__title_message_talk-id\")\n",
    "            talk_id = talk_id_element.text.strip()\n",
    "            if talk_id and talk_id not in talk_ids:\n",
    "                talk_ids.add(talk_id)\n",
    "                print(f\"✅ Novo Talk ID: {talk_id}\")\n",
    "        except:\n",
    "            pass  # Pode ser elemento vazio, loading, etc.\n",
    "\n",
    "    # Faz scroll \"um tiquinho\"\n",
    "    driver.execute_script(\"arguments[0].scrollTop += 300\", scroll_container)\n",
    "    time.sleep(0.6)\n",
    "\n",
    "    # Verifica se houve progresso\n",
    "    if len(talk_ids) == last_count:\n",
    "        tentativas_sem_novos += 1\n",
    "    else:\n",
    "        tentativas_sem_novos = 0\n",
    "        last_count = len(talk_ids)\n",
    "\n",
    "    # Se tentou 3x seguidas sem encontrar novos, para\n",
    "    if tentativas_sem_novos >= 3:\n",
    "        print(f\"\\n🏁 Fim do scroll. Total coletado: {len(talk_ids)}\")\n",
    "        break"
   ]
  },
  {
   "cell_type": "code",
   "execution_count": 158,
   "id": "34b8b976-3db3-417e-a1f3-a0352bd5be3c",
   "metadata": {},
   "outputs": [],
   "source": [
    "scroll_step = 200\n"
   ]
  },
  {
   "cell_type": "code",
   "execution_count": 164,
   "id": "4197e6fe-8c40-47e7-98cb-bcec5990a764",
   "metadata": {},
   "outputs": [],
   "source": [
    "    driver.execute_script(\"arguments[0].scrollTop += arguments[1];\", scroll_container, scroll_step)\n"
   ]
  },
  {
   "cell_type": "code",
   "execution_count": 132,
   "id": "81aae851-00e7-425a-8950-52a192de5925",
   "metadata": {},
   "outputs": [],
   "source": [
    "scroll_container = driver.find_element(By.CSS_SELECTOR, \".a32e5979c.custom-scroll\")"
   ]
  },
  {
   "cell_type": "code",
   "execution_count": 156,
   "id": "3df95a22-067b-4b34-8153-eb211f8e44b3",
   "metadata": {},
   "outputs": [],
   "source": [
    "driver.execute_script(\"arguments[0].scrollBy(0, 300)\", scroll_container)"
   ]
  },
  {
   "cell_type": "code",
   "execution_count": 190,
   "id": "c121c516-4449-4b63-abaf-3bf97fcd54e5",
   "metadata": {},
   "outputs": [],
   "source": [
    "        scroll_container = driver.find_element(By.CSS_SELECTOR, 'div.a32e5979c.custom-scroll.a691eb1e')\n",
    "        \n",
    "        # Move até ele e dá um ARROW_DOWN\n",
    "        actions = ActionChains(driver)\n",
    "        actions.move_to_element(scroll_container).click().send_keys(Keys.PAGE_DOWN).perform()"
   ]
  },
  {
   "cell_type": "code",
   "execution_count": 188,
   "id": "75bcd373-bec3-4e83-9555-f078332dcac8",
   "metadata": {},
   "outputs": [],
   "source": [
    "from selenium.webdriver.common.action_chains import ActionChains\n",
    "from selenium.webdriver.common.keys import Keys\n",
    "\n",
    "actions = ActionChains(driver)\n",
    "actions.move_to_element(scroll_container).click().send_keys(Keys.PAGE_DOWN).perform()"
   ]
  },
  {
   "cell_type": "code",
   "execution_count": 194,
   "id": "9fe75cdf-f689-4a37-a1e9-cdd14a15306b",
   "metadata": {},
   "outputs": [
    {
     "name": "stdout",
     "output_type": "stream",
     "text": [
      "Scrolls: 1 | IDs capturados: 21\n",
      "Scrolls: 2 | IDs capturados: 26\n",
      "Scrolls: 3 | IDs capturados: 30\n",
      "Scrolls: 4 | IDs capturados: 34\n",
      "Scrolls: 5 | IDs capturados: 34\n",
      "Scrolls: 6 | IDs capturados: 47\n",
      "Scrolls: 7 | IDs capturados: 57\n",
      "Scrolls: 8 | IDs capturados: 64\n",
      "Scrolls: 9 | IDs capturados: 71\n",
      "Scrolls: 10 | IDs capturados: 71\n",
      "\n",
      "Talking IDs coletados:\n",
      "A1199\n",
      "A1216\n",
      "A1220\n",
      "A1222\n",
      "A1223\n",
      "A1224\n",
      "A1225\n",
      "A1251\n",
      "A1252\n",
      "A1255\n",
      "A1256\n",
      "A1257\n",
      "A1264\n",
      "A1265\n",
      "A1266\n",
      "A1272\n",
      "A1277\n",
      "A1280\n",
      "A1283\n",
      "A1284\n",
      "A1285\n",
      "A1301\n",
      "A1314\n",
      "A1321\n",
      "A1331\n",
      "A1332\n",
      "A1345\n",
      "A1349\n",
      "A1360\n",
      "A1365\n",
      "A1394\n",
      "A1403\n",
      "A1412\n",
      "A1414\n",
      "A1418\n",
      "A1423\n",
      "A1424\n",
      "A1427\n",
      "A1437\n",
      "A1443\n",
      "A1445\n",
      "A1446\n",
      "A1449\n",
      "A1450\n",
      "A1454\n",
      "A1458\n",
      "A1459\n",
      "A1460\n",
      "A1462\n",
      "A1464\n",
      "A1468\n",
      "A1476\n",
      "A1477\n",
      "A1478\n",
      "A1479\n",
      "A1480\n",
      "A1482\n",
      "A1483\n",
      "A1485\n",
      "A1486\n",
      "A1487\n",
      "A1488\n",
      "A1490\n",
      "A1494\n",
      "A1495\n",
      "A1496\n",
      "A1497\n",
      "A1498\n",
      "A1499\n",
      "A1500\n",
      "A1502\n"
     ]
    }
   ],
   "source": [
    "scroll_count = 0\n",
    "max_scrolls = 10  # Altere esse valor conforme quiser \"rolar mais\"\n",
    "\n",
    "talking_ids = set()\n",
    "\n",
    "while True:\n",
    "    try:\n",
    "        # 1. Rola um pouquinho\n",
    "        scroll_container = driver.find_element(By.CSS_SELECTOR, 'div.a32e5979c.custom-scroll.a691eb1e')\n",
    "        actions = ActionChains(driver)\n",
    "        actions.move_to_element(scroll_container).click().send_keys(Keys.PAGE_DOWN).perform()\n",
    "        time.sleep(0.5)\n",
    "\n",
    "        # 2. Pega todos os elementos com class `notification-inner__title_message_talk-id`\n",
    "        talk_id_elements = driver.find_elements(By.CLASS_NAME, \"notification-inner__title_message_talk-id\")\n",
    "\n",
    "        for el in talk_id_elements:\n",
    "            title = el.get_attribute(\"title\")\n",
    "            if title:\n",
    "                talking_ids.add(title)\n",
    "\n",
    "        scroll_count += 1\n",
    "        print(f\"Scrolls: {scroll_count} | IDs capturados: {len(talking_ids)}\")\n",
    "\n",
    "        if scroll_count >= max_scrolls:\n",
    "            break\n",
    "\n",
    "    except Exception as e:\n",
    "        print(\"Erro no processo:\", e)\n",
    "        time.sleep(1)\n",
    "\n",
    "# Exibe os talking_ids coletados\n",
    "print(\"\\nTalking IDs coletados:\")\n",
    "for tid in sorted(talking_ids):\n",
    "    print(tid)"
   ]
  },
  {
   "cell_type": "code",
   "execution_count": 3,
   "id": "0f693853-b279-478b-a7c0-03c1a1619c37",
   "metadata": {},
   "outputs": [],
   "source": [
    "talking_ids = [\n",
    "    1199, 1216, 1220, 1222, 1223, 1224, 1225, 1251, 1252, 1255,\n",
    "    1256, 1257, 1264, 1265, 1266, 1272, 1277, 1280, 1283, 1284,\n",
    "    1285, 1301, 1314, 1321, 1331, 1332, 1345, 1349, 1360, 1365,\n",
    "    1394, 1403, 1412, 1414, 1418, 1423, 1424, 1427, 1437, 1443,\n",
    "    1445, 1446, 1449, 1450, 1454, 1458, 1459, 1460, 1462, 1464,\n",
    "    1468, 1476, 1477, 1478, 1479, 1480, 1482, 1483, 1485, 1486,\n",
    "    1487, 1488, 1490, 1494, 1495, 1496, 1497, 1498, 1499, 1500, 1502\n",
    "]"
   ]
  }
 ],
 "metadata": {
  "kernelspec": {
   "display_name": "Python [conda env:base] *",
   "language": "python",
   "name": "conda-base-py"
  },
  "language_info": {
   "codemirror_mode": {
    "name": "ipython",
    "version": 3
   },
   "file_extension": ".py",
   "mimetype": "text/x-python",
   "name": "python",
   "nbconvert_exporter": "python",
   "pygments_lexer": "ipython3",
   "version": "3.12.7"
  }
 },
 "nbformat": 4,
 "nbformat_minor": 5
}
